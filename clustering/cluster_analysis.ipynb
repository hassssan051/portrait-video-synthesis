{
 "cells": [
  {
   "cell_type": "code",
   "execution_count": 1,
   "metadata": {},
   "outputs": [],
   "source": [
    "import pickle\n",
    "import numpy as np"
   ]
  },
  {
   "cell_type": "code",
   "execution_count": 2,
   "metadata": {},
   "outputs": [],
   "source": [
    "final_files_save_path = '1_clustering_single_level_weighted/pkls/clustering_output/jan/7/16_37_39_15000_0.8_0.05_0.05_0.05_0.05'\n",
    "# final_files_save_path = 'pkls/clustering_output/nov/11/6_00_500_w2_0.2_0.2_0.3_0.15_0.15'"
   ]
  },
  {
   "cell_type": "code",
   "execution_count": 5,
   "metadata": {},
   "outputs": [],
   "source": [
    "with open(f'{final_files_save_path}/frame_to_cluster_mapping.pkl', 'rb') as f:\n",
    "    frame_to_cluster_mapping = pickle.load(f)"
   ]
  },
  {
   "cell_type": "code",
   "execution_count": 6,
   "metadata": {},
   "outputs": [],
   "source": [
    "frame_to_cluster_mapping_transformed = {}\n",
    "for key in frame_to_cluster_mapping:\n",
    "    frame_to_cluster_mapping_transformed[key] = [cluster_id for _, cluster_id in frame_to_cluster_mapping[key]]"
   ]
  },
  {
   "cell_type": "code",
   "execution_count": 10,
   "metadata": {},
   "outputs": [
    {
     "name": "stdout",
     "output_type": "stream",
     "text": [
      "01-01-01-01-01-01-01 [5582, 5582, 13043, 13043, 13043, 264, 264, 264, 264, 264, 264, 264, 264, 264, 264, 264, 264, 264, 264, 264, 264, 264, 264, 264, 264, 3108, 3108, 3108, 3108, 3108, 3108, 3108, 13619, 5582, 5582, 5582, 13619, 264, 264, 3108, 14973, 14973, 14973, 14973, 14973, 14973, 14973, 14973, 975, 975, 975, 10420, 10420, 11027, 4390, 11027, 10420, 10420, 10420, 10420, 10420, 10420, 10420, 10420, 10420, 10420, 10420, 10420, 10420, 10420, 13401, 13401, 13401, 13401, 13401, 13401, 13401, 13401, 13401, 13401, 13401, 13401, 13401, 13401, 13401, 13401, 13401, 13401, 13401, 13401, 13401, 13401, 13401, 13401, 13401, 13401, 13401, 13401]\n"
     ]
    }
   ],
   "source": [
    "for key in frame_to_cluster_mapping_transformed:\n",
    "    print(key, frame_to_cluster_mapping_transformed[key])\n",
    "    break"
   ]
  },
  {
   "cell_type": "markdown",
   "metadata": {},
   "source": [
    "# Overall video statistics"
   ]
  },
  {
   "cell_type": "code",
   "execution_count": 31,
   "metadata": {},
   "outputs": [
    {
     "name": "stdout",
     "output_type": "stream",
     "text": [
      "\n",
      "Overall Statistics:\n",
      "--------------------------------------------------\n",
      "\n",
      "Unique Clusters per Video:\n",
      "Average: 12.63\n",
      "Minimum: 1\n",
      "Maximum: 53\n",
      "Standard Deviation: 7.47\n",
      "\n",
      "Run Lengths (cluster_ids):\n",
      "Average across all videos: 4.92\n",
      "Minimum: 1\n",
      "Maximum: 116\n",
      "Standard Deviation: 4.88\n",
      "\n",
      "Video Lengths in terms of frames\n",
      "Average: 124.56 frames\n",
      "Standard Deviation: 43.40 frames\n",
      "\n",
      "Cluster Changes:\n",
      "Average Cluster unique transitions per video: 31.28\n",
      "Standard Deviation: 18.82\n"
     ]
    }
   ],
   "source": [
    "# Calculate unique clusters and average run length per video\n",
    "video_stats = {}\n",
    "total_unique_clusters = 0\n",
    "total_avg_run_length = 0\n",
    "num_videos = len(frame_to_cluster_mapping_transformed)\n",
    "\n",
    "all_unique_clusters = []\n",
    "all_run_lengths = []\n",
    "all_video_lengths = []\n",
    "all_cluster_changes = []\n",
    "\n",
    "for video_name, cluster_ids in frame_to_cluster_mapping_transformed.items():\n",
    "    # Get unique clusters\n",
    "    unique_clusters = len(set(cluster_ids))\n",
    "    total_unique_clusters += unique_clusters\n",
    "    all_unique_clusters.append(unique_clusters)\n",
    "    \n",
    "    # Calculate run lengths\n",
    "    current_cluster = cluster_ids[0]\n",
    "    current_run = 1\n",
    "    runs = []\n",
    "    cluster_changes = 0\n",
    "    \n",
    "    for cluster_id in cluster_ids[1:]:\n",
    "        if cluster_id == current_cluster:\n",
    "            current_run += 1\n",
    "        else:\n",
    "            runs.append(current_run)\n",
    "            current_run = 1\n",
    "            current_cluster = cluster_id\n",
    "            cluster_changes += 1\n",
    "    runs.append(current_run)  # Add the last run\n",
    "    \n",
    "    avg_run_length = sum(runs) / len(runs)\n",
    "    total_avg_run_length += avg_run_length\n",
    "    \n",
    "    all_run_lengths.extend(runs)\n",
    "    all_video_lengths.append(len(cluster_ids))\n",
    "    all_cluster_changes.append(cluster_changes)\n",
    "\n",
    "# Calculate overall statistics\n",
    "overall_avg_unique_clusters = total_unique_clusters / num_videos\n",
    "overall_avg_run_length = total_avg_run_length / num_videos\n",
    "\n",
    "# Additional statistics\n",
    "min_unique_clusters = min(all_unique_clusters)\n",
    "max_unique_clusters = max(all_unique_clusters)\n",
    "std_unique_clusters = np.std(all_unique_clusters)\n",
    "\n",
    "min_run_length = min(all_run_lengths)\n",
    "max_run_length = max(all_run_lengths)\n",
    "std_run_length = np.std(all_run_lengths)\n",
    "\n",
    "avg_video_length = np.mean(all_video_lengths)\n",
    "std_video_length = np.std(all_video_lengths)\n",
    "\n",
    "avg_cluster_changes = np.mean(all_cluster_changes)\n",
    "std_cluster_changes = np.std(all_cluster_changes)\n",
    "\n",
    "# Print comprehensive results\n",
    "print(\"\\nOverall Statistics:\")\n",
    "print(\"-\" * 50)\n",
    "print(\"\\nUnique Clusters per Video:\")\n",
    "print(f\"Average: {overall_avg_unique_clusters:.2f}\")\n",
    "print(f\"Minimum: {min_unique_clusters}\")\n",
    "print(f\"Maximum: {max_unique_clusters}\")\n",
    "print(f\"Standard Deviation: {std_unique_clusters:.2f}\")\n",
    "\n",
    "print(\"\\nRun Lengths (cluster_ids):\")\n",
    "print(f\"Average across all videos: {overall_avg_run_length:.2f}\")\n",
    "print(f\"Minimum: {min_run_length}\")\n",
    "print(f\"Maximum: {max_run_length}\")\n",
    "print(f\"Standard Deviation: {std_run_length:.2f}\")\n",
    "\n",
    "print(\"\\nVideo Lengths in terms of frames\")\n",
    "print(f\"Average: {avg_video_length:.2f} frames\")\n",
    "print(f\"Standard Deviation: {std_video_length:.2f} frames\")\n",
    "\n",
    "print(\"\\nCluster Changes:\")\n",
    "print(f\"Average Cluster unique transitions per video: {avg_cluster_changes:.2f}\")\n",
    "print(f\"Standard Deviation: {std_cluster_changes:.2f}\")\n"
   ]
  },
  {
   "cell_type": "markdown",
   "metadata": {},
   "source": [
    "# Check if a cluster has frames from the same video"
   ]
  },
  {
   "cell_type": "code",
   "execution_count": 29,
   "metadata": {},
   "outputs": [
    {
     "name": "stdout",
     "output_type": "stream",
     "text": [
      "151\n"
     ]
    }
   ],
   "source": [
    "cluster_to_video_mapping = {}\n",
    "\n",
    "for video, clusters in frame_to_cluster_mapping_transformed.items():\n",
    "    for cluster_id in clusters:\n",
    "        if cluster_id not in cluster_to_video_mapping:\n",
    "            cluster_to_video_mapping[cluster_id] = set()\n",
    "        cluster_to_video_mapping[cluster_id].add(video)\n",
    "\n",
    "# Step 2: Check if any cluster is associated with only one video\n",
    "single_video_clusters = [\n",
    "    cluster_id for cluster_id, videos in cluster_to_video_mapping.items() if len(videos) == 1\n",
    "]\n",
    "\n",
    "# # Output the result\n",
    "# if single_video_clusters:\n",
    "#     print(f\"There are clusters that only contain frames from one video: {single_video_clusters}\")\n",
    "# else:\n",
    "#     print(\"No clusters contain frames from only one video.\")\n",
    "\n",
    "print(\"The number of clusters that have frames from a single video\", len(single_video_clusters))"
   ]
  },
  {
   "cell_type": "markdown",
   "metadata": {},
   "source": [
    "# Check if a cluster has frames from the same actor"
   ]
  },
  {
   "cell_type": "code",
   "execution_count": 28,
   "metadata": {},
   "outputs": [
    {
     "name": "stdout",
     "output_type": "stream",
     "text": [
      " 14380\n"
     ]
    }
   ],
   "source": [
    "cluster_to_actor_mapping = {}\n",
    "\n",
    "for video, clusters in frame_to_cluster_mapping_transformed.items():\n",
    "    for cluster_id in clusters:\n",
    "        if cluster_id not in cluster_to_actor_mapping:\n",
    "            cluster_to_actor_mapping[cluster_id] = set()\n",
    "        if video[0] == \"M\":\n",
    "            cluster_to_actor_mapping[cluster_id].add(video.split(\"/\")[0])\n",
    "        else:\n",
    "            cluster_to_actor_mapping[cluster_id].add(video.split(\"-\")[-1])\n",
    "\n",
    "# Step 2: Check if any cluster is associated with only one video\n",
    "single_actor_clusters = [\n",
    "    cluster_id for cluster_id, actor in cluster_to_actor_mapping.items() if len(actor) == 1\n",
    "]\n",
    "\n",
    "# # Output the result\n",
    "# if single_video_clusters:\n",
    "#     print(f\"There are clusters that only contain frames from one video: {single_video_clusters}\")\n",
    "# else:\n",
    "#     print(\"No clusters contain frames from only one video.\")\n",
    "\n",
    "print(\"The number of clusters that only have data from a single actor are:\", len(single_actor_clusters))"
   ]
  },
  {
   "cell_type": "code",
   "execution_count": null,
   "metadata": {},
   "outputs": [],
   "source": []
  },
  {
   "cell_type": "code",
   "execution_count": null,
   "metadata": {},
   "outputs": [],
   "source": []
  },
  {
   "cell_type": "code",
   "execution_count": null,
   "metadata": {},
   "outputs": [],
   "source": []
  },
  {
   "cell_type": "code",
   "execution_count": null,
   "metadata": {},
   "outputs": [],
   "source": []
  },
  {
   "cell_type": "code",
   "execution_count": null,
   "metadata": {},
   "outputs": [],
   "source": []
  },
  {
   "cell_type": "code",
   "execution_count": null,
   "metadata": {},
   "outputs": [],
   "source": []
  }
 ],
 "metadata": {
  "interpreter": {
   "hash": "ee217901adef85753aed1a28fe56e3c2b617b5112732321da5bf6aef4072ac5c"
  },
  "kernelspec": {
   "display_name": "Python 3.10.15 ('LivePortrait')",
   "language": "python",
   "name": "python3"
  },
  "language_info": {
   "codemirror_mode": {
    "name": "ipython",
    "version": 3
   },
   "file_extension": ".py",
   "mimetype": "text/x-python",
   "name": "python",
   "nbconvert_exporter": "python",
   "pygments_lexer": "ipython3",
   "version": "3.10.15"
  }
 },
 "nbformat": 4,
 "nbformat_minor": 2
}
